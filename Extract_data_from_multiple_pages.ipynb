{
  "nbformat": 4,
  "nbformat_minor": 0,
  "metadata": {
    "colab": {
      "provenance": []
    },
    "kernelspec": {
      "name": "python3",
      "display_name": "Python 3"
    },
    "language_info": {
      "name": "python"
    }
  },
  "cells": [
    {
      "cell_type": "code",
      "execution_count": 49,
      "metadata": {
        "colab": {
          "base_uri": "https://localhost:8080/"
        },
        "id": "p4GmFOHjk-N5",
        "outputId": "22800158-ff92-4b82-b391-3ae4ee6ffe37"
      },
      "outputs": [
        {
          "output_type": "stream",
          "name": "stdout",
          "text": [
            "Length of Names: 234\n",
            "Length of Price: 234\n",
            "Length of Desc: 234\n",
            "Length of Reviews: 234\n"
          ]
        }
      ],
      "source": [
        "from bs4 import BeautifulSoup\n",
        "import requests\n",
        "import pandas as pd\n",
        "\n",
        "Names = []\n",
        "Price = []\n",
        "Desc = []\n",
        "Reviews = []\n",
        "\n",
        "\n",
        "url = 'https://www.airbnb.com/s/New-Delhi--India/homes?adults=1&place_id=ChIJLbZ-NFv9DDkRzk0gTkm3wlI&refinement_paths%5B%5D=%2Fhomes'\n",
        "\n",
        "r = requests.get(url)\n",
        "#print(r)\n",
        "\n",
        "soup = BeautifulSoup(r.text,'lxml')\n",
        "#print(soup)\n",
        "\n",
        "for i in range(1,14):\n",
        "\n",
        "  #next page navigation button\n",
        "  np = soup.find('a',class_ = 'l1ovpqvx c1ytbx3a dir dir-ltr').get('href')\n",
        "  #print(np)\n",
        "\n",
        "  #link for next page\n",
        "  cnp = \"https://www.airbnb.com\" +np\n",
        "\n",
        "  #print(cnp)\n",
        "\n",
        "  #looping through the pages\n",
        "  url = cnp\n",
        "  r = requests.get(url)\n",
        "  soup = BeautifulSoup(r.text,'lxml')\n",
        "\n",
        "  names = soup.find_all('div',class_='t1jojoys dir dir-ltr')\n",
        "  #print(names)\n",
        "  for i in names:\n",
        "    n = i.text\n",
        "    Names.append(n)\n",
        "\n",
        "  #prices = soup.find_all('span', class_='_tyxjp1')\n",
        "  prices = soup.find_all('div', class_= '_1jo4hgw')\n",
        "  #print(prices)\n",
        "  for i in prices:\n",
        "    n = i.text\n",
        "    Price.append(n)\n",
        "\n",
        "  #desc = soup.find_all('div', class_='fb4nyux s1cjsi4j dir dir-ltr')\n",
        "  desc = soup.find_all('span', class_='t6mzqp7 dir dir-ltr')\n",
        "  #print(desc)\n",
        "  for i in desc:\n",
        "    n = i.text\n",
        "    Desc.append(n)\n",
        "\n",
        "  reviews = soup.find_all('span',class_='r1dxllyb dir dir-ltr')\n",
        "  #print(reviews)\n",
        "  for i in reviews:\n",
        "    n = i.text\n",
        "    Reviews.append(n)\n",
        "\n",
        "print(\"Length of Names:\", len(Names))\n",
        "print(\"Length of Price:\", len(Price))\n",
        "print(\"Length of Desc:\", len(Desc))\n",
        "print(\"Length of Reviews:\", len(Reviews))\n",
        "\n",
        "df = pd.DataFrame({'Name':Names,'Prices/night':Price,'Description':Desc,'Reviews':Reviews })\n",
        "df.to_csv('airbnb_delhi.csv')\n"
      ]
    },
    {
      "cell_type": "code",
      "source": [],
      "metadata": {
        "id": "03StnnZL2kz2"
      },
      "execution_count": null,
      "outputs": []
    },
    {
      "cell_type": "code",
      "source": [],
      "metadata": {
        "id": "ewBonYGvq4ec"
      },
      "execution_count": null,
      "outputs": []
    }
  ]
}